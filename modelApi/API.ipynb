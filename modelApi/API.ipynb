{
 "cells": [
  {
   "cell_type": "code",
   "execution_count": 2,
   "id": "6ad0b5ce-e73b-4b12-a012-b4fe4f21c374",
   "metadata": {},
   "outputs": [],
   "source": [
    "import tensorflow as tf\n",
    "import cv2\n",
    "import numpy as np\n",
    "from PIL import Image\n",
    "from flask import request, jsonify, Flask\n",
    "from keras.models import Sequential, load_model\n",
    "from keras import backend as k\n",
    "from tensorflow.keras.preprocessing.image import ImageDataGenerator\n",
    "import requests\n",
    "from obj import images,classes"
   ]
  },
  {
   "cell_type": "code",
   "execution_count": 3,
   "id": "ba64473d-1963-499a-86b0-94ac21996218",
   "metadata": {
    "scrolled": true
   },
   "outputs": [],
   "source": [
    "# Create Flask app\n",
    "app = Flask(__name__)"
   ]
  },
  {
   "cell_type": "code",
   "execution_count": 4,
   "id": "3af89de8-235b-45ef-8361-174957e7afa0",
   "metadata": {},
   "outputs": [
    {
     "name": "stderr",
     "output_type": "stream",
     "text": [
      "c:\\Users\\MG\\AppData\\Local\\Programs\\Python\\Python311\\Lib\\site-packages\\keras\\src\\layers\\convolutional\\base_conv.py:99: UserWarning: Do not pass an `input_shape`/`input_dim` argument to a layer. When using Sequential models, prefer using an `Input(shape)` object as the first layer in the model instead.\n",
      "  super().__init__(\n",
      "c:\\Users\\MG\\AppData\\Local\\Programs\\Python\\Python311\\Lib\\site-packages\\keras\\src\\optimizers\\base_optimizer.py:34: UserWarning: Argument `decay` is no longer supported and will be ignored.\n",
      "  warnings.warn(\n",
      "WARNING:absl:Compiled the loaded model, but the compiled metrics have yet to be built. `model.compile_metrics` will be empty until you train or evaluate the model.\n",
      "WARNING:absl:Error in loading the saved optimizer state. As a result, your model is starting with a freshly initialized optimizer.\n"
     ]
    },
    {
     "name": "stdout",
     "output_type": "stream",
     "text": [
      "Model loaded!\n"
     ]
    }
   ],
   "source": [
    "# Function to load the models\n",
    "def load_model_fn(path):\n",
    "    model = load_model(path)\n",
    "    print('Model loaded!')\n",
    "    return model\n",
    "\n",
    "load = load_model_fn('./model.h5') "
   ]
  },
  {
   "cell_type": "code",
   "execution_count": 5,
   "id": "e5fce665-81b8-4862-a08d-588c9d3d1f23",
   "metadata": {},
   "outputs": [],
   "source": [
    "# Function to preprocess the image\n",
    "def preprocess_image(image_path, target_size):\n",
    "    try:\n",
    "        # Load the image\n",
    "        image = Image.open(requests.get(image_path, stream=True).raw)\n",
    "        # Convert the image to RGB\n",
    "        rgb_image = image.convert(\"RGB\")\n",
    "\n",
    "        # Resize the RGB image\n",
    "        resized_image = rgb_image.resize(target_size)\n",
    "\n",
    "        # Convert the RGB image to a NumPy array\n",
    "        image_array = np.array(resized_image)\n",
    "\n",
    "        # Normalize the image by dividing pixel values by 255\n",
    "        mean_value = 0.5\n",
    "        std_value = 0.5\n",
    "        image_array = (image_array - mean_value) / std_value\n",
    "\n",
    "        # Add batch dimension\n",
    "        image_array = np.expand_dims(image_array, axis=0)\n",
    "\n",
    "        return image_array\n",
    "    except Exception as e:\n",
    "        print(f\"Error preprocessing image: {str(e)}\")\n",
    "        return None"
   ]
  },
  {
   "cell_type": "code",
   "execution_count": 6,
   "id": "04b2620d-d03d-4f01-9f4a-5cc64028fb3f",
   "metadata": {},
   "outputs": [
    {
     "data": {
      "text/plain": [
       "<flask_cors.extension.CORS at 0x1fc58e4b550>"
      ]
     },
     "execution_count": 6,
     "metadata": {},
     "output_type": "execute_result"
    }
   ],
   "source": [
    "from flask_cors import CORS\n",
    "# Create Flask app\n",
    "app = Flask(__name__)\n",
    "CORS(app)  # Enable CORS for all origins"
   ]
  },
  {
   "cell_type": "code",
   "execution_count": 7,
   "id": "282476c9-34ff-4811-939d-479ab858940e",
   "metadata": {},
   "outputs": [],
   "source": [
    "@app.route('/predictApi', methods=['POST'])\n",
    "def api():\n",
    "    try:\n",
    "        # Get the JSON data from the request\n",
    "        data = request.json\n",
    "\n",
    "        # Extract the image URL from the JSON data\n",
    "        imageUrl = data.get('imageUrl')\n",
    "\n",
    "        if not imageUrl:\n",
    "            return jsonify({\"error\": \"Image URL not provided.\"})\n",
    "\n",
    "        # Preprocess the image using the provided URL\n",
    "        image_arr = preprocess_image(imageUrl, target_size=(224, 224))\n",
    "\n",
    "        # Handle error if image preprocessing fails\n",
    "        if image_arr is None:\n",
    "            return jsonify({\"error\": \"Error processing image.\"})\n",
    "\n",
    "        # Make predictions using the loaded model\n",
    "        prediction = load.predict(image_arr)\n",
    "\n",
    "        # Get the predicted class label index and confidence\n",
    "        index_largest_value = np.argmax(prediction[0])\n",
    "        confidence = prediction[0][index_largest_value]\n",
    "\n",
    "        # Check if the confidence is below the threshold\n",
    "        threshold = 0.7  # Set your desired confidence threshold here\n",
    "        if confidence < threshold:\n",
    "            return jsonify({\"error\": \"Confidence below threshold.\"})\n",
    "\n",
    "        result = classes[index_largest_value]\n",
    "\n",
    "        # Check if the predicted class label is in the classes list\n",
    "        if result not in classes:\n",
    "            return jsonify({\"error\": \"Photo not found.\"})\n",
    "\n",
    "        # Return the prediction and confidence as JSON response\n",
    "        return jsonify({\"prediction\": result, \"confidence\": float(confidence), \"image\": images[result]})\n",
    "    except Exception as e:\n",
    "        # Return error message as JSON response\n",
    "        return jsonify({\"error\": str(e)})    "
   ]
  },
  {
   "cell_type": "code",
   "execution_count": 9,
   "id": "003ef4bf-94fc-4e5a-986f-9b75d080d167",
   "metadata": {},
   "outputs": [
    {
     "name": "stdout",
     "output_type": "stream",
     "text": [
      " * Serving Flask app '__main__'\n",
      " * Debug mode: off\n"
     ]
    },
    {
     "name": "stderr",
     "output_type": "stream",
     "text": [
      "INFO:werkzeug:\u001b[31m\u001b[1mWARNING: This is a development server. Do not use it in a production deployment. Use a production WSGI server instead.\u001b[0m\n",
      " * Running on http://127.0.0.1:5000\n",
      "INFO:werkzeug:\u001b[33mPress CTRL+C to quit\u001b[0m\n"
     ]
    }
   ],
   "source": [
    "if __name__ == \"__main__\":\n",
    "    # Run the Flask app\n",
    "    app.run()\n"
   ]
  }
 ],
 "metadata": {
  "kernelspec": {
   "display_name": "Python 3 (ipykernel)",
   "language": "python",
   "name": "python3"
  },
  "language_info": {
   "codemirror_mode": {
    "name": "ipython",
    "version": 3
   },
   "file_extension": ".py",
   "mimetype": "text/x-python",
   "name": "python",
   "nbconvert_exporter": "python",
   "pygments_lexer": "ipython3",
   "version": "3.11.2"
  }
 },
 "nbformat": 4,
 "nbformat_minor": 5
}
